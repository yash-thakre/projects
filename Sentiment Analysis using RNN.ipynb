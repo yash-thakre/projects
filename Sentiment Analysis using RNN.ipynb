{
 "cells": [
  {
   "cell_type": "code",
   "execution_count": 1,
   "id": "9916b2e6",
   "metadata": {},
   "outputs": [
    {
     "name": "stdout",
     "output_type": "stream",
     "text": [
      "WARNING:tensorflow:From C:\\Users\\ASUS\\anaconda3\\Lib\\site-packages\\keras\\src\\losses.py:2976: The name tf.losses.sparse_softmax_cross_entropy is deprecated. Please use tf.compat.v1.losses.sparse_softmax_cross_entropy instead.\n",
      "\n"
     ]
    }
   ],
   "source": [
    "import pandas as pd\n",
    "import numpy as np\n",
    "import tensorflow as tf\n",
    "from tensorflow.keras.preprocessing.sequence import pad_sequences\n",
    "from tensorflow.keras.preprocessing.text import Tokenizer\n",
    "from tensorflow.keras.layers import SimpleRNN, Dense, Embedding\n",
    "from tensorflow.keras.models import Sequential\n",
    "from sklearn.preprocessing import OneHotEncoder\n",
    "from nltk.corpus import stopwords\n",
    "import nltk \n",
    "from nltk.tokenize import word_tokenize, RegexpTokenizer"
   ]
  },
  {
   "cell_type": "markdown",
   "id": "85c3c097",
   "metadata": {},
   "source": [
    "# Data Reading and visualization"
   ]
  },
  {
   "cell_type": "code",
   "execution_count": 2,
   "id": "4cb3a400",
   "metadata": {},
   "outputs": [],
   "source": [
    "test =pd.read_csv(r\"C:\\Users\\ASUS\\Desktop\\read\\project\\Sentiment_Analysis_Dataset\\test.csv\", encoding='latin1')\n",
    "train = pd.read_csv(r\"C:\\Users\\ASUS\\Desktop\\read\\project\\Sentiment_Analysis_Dataset\\train.csv\",encoding='latin1')"
   ]
  },
  {
   "cell_type": "code",
   "execution_count": 3,
   "id": "2a4f6a5e",
   "metadata": {},
   "outputs": [
    {
     "data": {
      "text/html": [
       "<div>\n",
       "<style scoped>\n",
       "    .dataframe tbody tr th:only-of-type {\n",
       "        vertical-align: middle;\n",
       "    }\n",
       "\n",
       "    .dataframe tbody tr th {\n",
       "        vertical-align: top;\n",
       "    }\n",
       "\n",
       "    .dataframe thead th {\n",
       "        text-align: right;\n",
       "    }\n",
       "</style>\n",
       "<table border=\"1\" class=\"dataframe\">\n",
       "  <thead>\n",
       "    <tr style=\"text-align: right;\">\n",
       "      <th></th>\n",
       "      <th>textID</th>\n",
       "      <th>text</th>\n",
       "      <th>selected_text</th>\n",
       "      <th>sentiment</th>\n",
       "      <th>Time of Tweet</th>\n",
       "      <th>Age of User</th>\n",
       "      <th>Country</th>\n",
       "      <th>Population -2020</th>\n",
       "      <th>Land Area (Km²)</th>\n",
       "      <th>Density (P/Km²)</th>\n",
       "    </tr>\n",
       "  </thead>\n",
       "  <tbody>\n",
       "    <tr>\n",
       "      <th>0</th>\n",
       "      <td>cb774db0d1</td>\n",
       "      <td>I`d have responded, if I were going</td>\n",
       "      <td>I`d have responded, if I were going</td>\n",
       "      <td>neutral</td>\n",
       "      <td>morning</td>\n",
       "      <td>0-20</td>\n",
       "      <td>Afghanistan</td>\n",
       "      <td>38928346</td>\n",
       "      <td>652860.0</td>\n",
       "      <td>60</td>\n",
       "    </tr>\n",
       "    <tr>\n",
       "      <th>1</th>\n",
       "      <td>549e992a42</td>\n",
       "      <td>Sooo SAD I will miss you here in San Diego!!!</td>\n",
       "      <td>Sooo SAD</td>\n",
       "      <td>negative</td>\n",
       "      <td>noon</td>\n",
       "      <td>21-30</td>\n",
       "      <td>Albania</td>\n",
       "      <td>2877797</td>\n",
       "      <td>27400.0</td>\n",
       "      <td>105</td>\n",
       "    </tr>\n",
       "    <tr>\n",
       "      <th>2</th>\n",
       "      <td>088c60f138</td>\n",
       "      <td>my boss is bullying me...</td>\n",
       "      <td>bullying me</td>\n",
       "      <td>negative</td>\n",
       "      <td>night</td>\n",
       "      <td>31-45</td>\n",
       "      <td>Algeria</td>\n",
       "      <td>43851044</td>\n",
       "      <td>2381740.0</td>\n",
       "      <td>18</td>\n",
       "    </tr>\n",
       "    <tr>\n",
       "      <th>3</th>\n",
       "      <td>9642c003ef</td>\n",
       "      <td>what interview! leave me alone</td>\n",
       "      <td>leave me alone</td>\n",
       "      <td>negative</td>\n",
       "      <td>morning</td>\n",
       "      <td>46-60</td>\n",
       "      <td>Andorra</td>\n",
       "      <td>77265</td>\n",
       "      <td>470.0</td>\n",
       "      <td>164</td>\n",
       "    </tr>\n",
       "    <tr>\n",
       "      <th>4</th>\n",
       "      <td>358bd9e861</td>\n",
       "      <td>Sons of ****, why couldn`t they put them on t...</td>\n",
       "      <td>Sons of ****,</td>\n",
       "      <td>negative</td>\n",
       "      <td>noon</td>\n",
       "      <td>60-70</td>\n",
       "      <td>Angola</td>\n",
       "      <td>32866272</td>\n",
       "      <td>1246700.0</td>\n",
       "      <td>26</td>\n",
       "    </tr>\n",
       "  </tbody>\n",
       "</table>\n",
       "</div>"
      ],
      "text/plain": [
       "       textID                                               text  \\\n",
       "0  cb774db0d1                I`d have responded, if I were going   \n",
       "1  549e992a42      Sooo SAD I will miss you here in San Diego!!!   \n",
       "2  088c60f138                          my boss is bullying me...   \n",
       "3  9642c003ef                     what interview! leave me alone   \n",
       "4  358bd9e861   Sons of ****, why couldn`t they put them on t...   \n",
       "\n",
       "                         selected_text sentiment Time of Tweet Age of User  \\\n",
       "0  I`d have responded, if I were going   neutral       morning        0-20   \n",
       "1                             Sooo SAD  negative          noon       21-30   \n",
       "2                          bullying me  negative         night       31-45   \n",
       "3                       leave me alone  negative       morning       46-60   \n",
       "4                        Sons of ****,  negative          noon       60-70   \n",
       "\n",
       "       Country  Population -2020  Land Area (Km²)  Density (P/Km²)  \n",
       "0  Afghanistan          38928346         652860.0               60  \n",
       "1      Albania           2877797          27400.0              105  \n",
       "2      Algeria          43851044        2381740.0               18  \n",
       "3      Andorra             77265            470.0              164  \n",
       "4       Angola          32866272        1246700.0               26  "
      ]
     },
     "execution_count": 3,
     "metadata": {},
     "output_type": "execute_result"
    }
   ],
   "source": [
    "train.head()"
   ]
  },
  {
   "cell_type": "markdown",
   "id": "eaabe963",
   "metadata": {},
   "source": [
    "# Data Preprocessing"
   ]
  },
  {
   "cell_type": "code",
   "execution_count": null,
   "id": "8c7ec1d4",
   "metadata": {},
   "outputs": [],
   "source": [
    "# Seperating Text column and Sentiment"
   ]
  },
  {
   "cell_type": "code",
   "execution_count": 4,
   "id": "da69570d",
   "metadata": {},
   "outputs": [
    {
     "data": {
      "text/html": [
       "<div>\n",
       "<style scoped>\n",
       "    .dataframe tbody tr th:only-of-type {\n",
       "        vertical-align: middle;\n",
       "    }\n",
       "\n",
       "    .dataframe tbody tr th {\n",
       "        vertical-align: top;\n",
       "    }\n",
       "\n",
       "    .dataframe thead th {\n",
       "        text-align: right;\n",
       "    }\n",
       "</style>\n",
       "<table border=\"1\" class=\"dataframe\">\n",
       "  <thead>\n",
       "    <tr style=\"text-align: right;\">\n",
       "      <th></th>\n",
       "      <th>text</th>\n",
       "      <th>sentiment</th>\n",
       "    </tr>\n",
       "  </thead>\n",
       "  <tbody>\n",
       "    <tr>\n",
       "      <th>0</th>\n",
       "      <td>I`d have responded, if I were going</td>\n",
       "      <td>neutral</td>\n",
       "    </tr>\n",
       "    <tr>\n",
       "      <th>1</th>\n",
       "      <td>Sooo SAD I will miss you here in San Diego!!!</td>\n",
       "      <td>negative</td>\n",
       "    </tr>\n",
       "    <tr>\n",
       "      <th>2</th>\n",
       "      <td>my boss is bullying me...</td>\n",
       "      <td>negative</td>\n",
       "    </tr>\n",
       "    <tr>\n",
       "      <th>3</th>\n",
       "      <td>what interview! leave me alone</td>\n",
       "      <td>negative</td>\n",
       "    </tr>\n",
       "    <tr>\n",
       "      <th>4</th>\n",
       "      <td>Sons of ****, why couldn`t they put them on t...</td>\n",
       "      <td>negative</td>\n",
       "    </tr>\n",
       "  </tbody>\n",
       "</table>\n",
       "</div>"
      ],
      "text/plain": [
       "                                                text sentiment\n",
       "0                I`d have responded, if I were going   neutral\n",
       "1      Sooo SAD I will miss you here in San Diego!!!  negative\n",
       "2                          my boss is bullying me...  negative\n",
       "3                     what interview! leave me alone  negative\n",
       "4   Sons of ****, why couldn`t they put them on t...  negative"
      ]
     },
     "execution_count": 4,
     "metadata": {},
     "output_type": "execute_result"
    }
   ],
   "source": [
    "train = train[['text','sentiment']]\n",
    "train.head()"
   ]
  },
  {
   "cell_type": "code",
   "execution_count": null,
   "id": "479186b8",
   "metadata": {},
   "outputs": [],
   "source": [
    "# Checking for null values"
   ]
  },
  {
   "cell_type": "code",
   "execution_count": 5,
   "id": "98d77033",
   "metadata": {},
   "outputs": [
    {
     "data": {
      "text/plain": [
       "text         1\n",
       "sentiment    0\n",
       "dtype: int64"
      ]
     },
     "execution_count": 5,
     "metadata": {},
     "output_type": "execute_result"
    }
   ],
   "source": [
    "train.isna().sum()"
   ]
  },
  {
   "cell_type": "code",
   "execution_count": 6,
   "id": "bb39d79b",
   "metadata": {},
   "outputs": [
    {
     "name": "stdout",
     "output_type": "stream",
     "text": [
      "<class 'pandas.core.frame.DataFrame'>\n",
      "Int64Index: 27480 entries, 0 to 27480\n",
      "Data columns (total 2 columns):\n",
      " #   Column     Non-Null Count  Dtype \n",
      "---  ------     --------------  ----- \n",
      " 0   text       27480 non-null  object\n",
      " 1   sentiment  27480 non-null  object\n",
      "dtypes: object(2)\n",
      "memory usage: 644.1+ KB\n"
     ]
    }
   ],
   "source": [
    "train = train.dropna()\n",
    "train.info()"
   ]
  },
  {
   "cell_type": "code",
   "execution_count": 7,
   "id": "138bed62",
   "metadata": {},
   "outputs": [
    {
     "data": {
      "text/html": [
       "<div>\n",
       "<style scoped>\n",
       "    .dataframe tbody tr th:only-of-type {\n",
       "        vertical-align: middle;\n",
       "    }\n",
       "\n",
       "    .dataframe tbody tr th {\n",
       "        vertical-align: top;\n",
       "    }\n",
       "\n",
       "    .dataframe thead th {\n",
       "        text-align: right;\n",
       "    }\n",
       "</style>\n",
       "<table border=\"1\" class=\"dataframe\">\n",
       "  <thead>\n",
       "    <tr style=\"text-align: right;\">\n",
       "      <th></th>\n",
       "      <th>textID</th>\n",
       "      <th>text</th>\n",
       "      <th>sentiment</th>\n",
       "      <th>Time of Tweet</th>\n",
       "      <th>Age of User</th>\n",
       "      <th>Country</th>\n",
       "      <th>Population -2020</th>\n",
       "      <th>Land Area (Km²)</th>\n",
       "      <th>Density (P/Km²)</th>\n",
       "    </tr>\n",
       "  </thead>\n",
       "  <tbody>\n",
       "    <tr>\n",
       "      <th>0</th>\n",
       "      <td>f87dea47db</td>\n",
       "      <td>Last session of the day  http://twitpic.com/67ezh</td>\n",
       "      <td>neutral</td>\n",
       "      <td>morning</td>\n",
       "      <td>0-20</td>\n",
       "      <td>Afghanistan</td>\n",
       "      <td>38928346.0</td>\n",
       "      <td>652860.0</td>\n",
       "      <td>60.0</td>\n",
       "    </tr>\n",
       "    <tr>\n",
       "      <th>1</th>\n",
       "      <td>96d74cb729</td>\n",
       "      <td>Shanghai is also really exciting (precisely -...</td>\n",
       "      <td>positive</td>\n",
       "      <td>noon</td>\n",
       "      <td>21-30</td>\n",
       "      <td>Albania</td>\n",
       "      <td>2877797.0</td>\n",
       "      <td>27400.0</td>\n",
       "      <td>105.0</td>\n",
       "    </tr>\n",
       "    <tr>\n",
       "      <th>2</th>\n",
       "      <td>eee518ae67</td>\n",
       "      <td>Recession hit Veronique Branquinho, she has to...</td>\n",
       "      <td>negative</td>\n",
       "      <td>night</td>\n",
       "      <td>31-45</td>\n",
       "      <td>Algeria</td>\n",
       "      <td>43851044.0</td>\n",
       "      <td>2381740.0</td>\n",
       "      <td>18.0</td>\n",
       "    </tr>\n",
       "    <tr>\n",
       "      <th>3</th>\n",
       "      <td>01082688c6</td>\n",
       "      <td>happy bday!</td>\n",
       "      <td>positive</td>\n",
       "      <td>morning</td>\n",
       "      <td>46-60</td>\n",
       "      <td>Andorra</td>\n",
       "      <td>77265.0</td>\n",
       "      <td>470.0</td>\n",
       "      <td>164.0</td>\n",
       "    </tr>\n",
       "    <tr>\n",
       "      <th>4</th>\n",
       "      <td>33987a8ee5</td>\n",
       "      <td>http://twitpic.com/4w75p - I like it!!</td>\n",
       "      <td>positive</td>\n",
       "      <td>noon</td>\n",
       "      <td>60-70</td>\n",
       "      <td>Angola</td>\n",
       "      <td>32866272.0</td>\n",
       "      <td>1246700.0</td>\n",
       "      <td>26.0</td>\n",
       "    </tr>\n",
       "  </tbody>\n",
       "</table>\n",
       "</div>"
      ],
      "text/plain": [
       "       textID                                               text sentiment  \\\n",
       "0  f87dea47db  Last session of the day  http://twitpic.com/67ezh   neutral   \n",
       "1  96d74cb729   Shanghai is also really exciting (precisely -...  positive   \n",
       "2  eee518ae67  Recession hit Veronique Branquinho, she has to...  negative   \n",
       "3  01082688c6                                        happy bday!  positive   \n",
       "4  33987a8ee5             http://twitpic.com/4w75p - I like it!!  positive   \n",
       "\n",
       "  Time of Tweet Age of User      Country  Population -2020  Land Area (Km²)  \\\n",
       "0       morning        0-20  Afghanistan        38928346.0         652860.0   \n",
       "1          noon       21-30      Albania         2877797.0          27400.0   \n",
       "2         night       31-45      Algeria        43851044.0        2381740.0   \n",
       "3       morning       46-60      Andorra           77265.0            470.0   \n",
       "4          noon       60-70       Angola        32866272.0        1246700.0   \n",
       "\n",
       "   Density (P/Km²)  \n",
       "0             60.0  \n",
       "1            105.0  \n",
       "2             18.0  \n",
       "3            164.0  \n",
       "4             26.0  "
      ]
     },
     "execution_count": 7,
     "metadata": {},
     "output_type": "execute_result"
    }
   ],
   "source": [
    "test.head()"
   ]
  },
  {
   "cell_type": "code",
   "execution_count": 8,
   "id": "fc468ff1",
   "metadata": {},
   "outputs": [
    {
     "data": {
      "text/html": [
       "<div>\n",
       "<style scoped>\n",
       "    .dataframe tbody tr th:only-of-type {\n",
       "        vertical-align: middle;\n",
       "    }\n",
       "\n",
       "    .dataframe tbody tr th {\n",
       "        vertical-align: top;\n",
       "    }\n",
       "\n",
       "    .dataframe thead th {\n",
       "        text-align: right;\n",
       "    }\n",
       "</style>\n",
       "<table border=\"1\" class=\"dataframe\">\n",
       "  <thead>\n",
       "    <tr style=\"text-align: right;\">\n",
       "      <th></th>\n",
       "      <th>text</th>\n",
       "      <th>sentiment</th>\n",
       "    </tr>\n",
       "  </thead>\n",
       "  <tbody>\n",
       "    <tr>\n",
       "      <th>0</th>\n",
       "      <td>Last session of the day  http://twitpic.com/67ezh</td>\n",
       "      <td>neutral</td>\n",
       "    </tr>\n",
       "    <tr>\n",
       "      <th>1</th>\n",
       "      <td>Shanghai is also really exciting (precisely -...</td>\n",
       "      <td>positive</td>\n",
       "    </tr>\n",
       "    <tr>\n",
       "      <th>2</th>\n",
       "      <td>Recession hit Veronique Branquinho, she has to...</td>\n",
       "      <td>negative</td>\n",
       "    </tr>\n",
       "    <tr>\n",
       "      <th>3</th>\n",
       "      <td>happy bday!</td>\n",
       "      <td>positive</td>\n",
       "    </tr>\n",
       "    <tr>\n",
       "      <th>4</th>\n",
       "      <td>http://twitpic.com/4w75p - I like it!!</td>\n",
       "      <td>positive</td>\n",
       "    </tr>\n",
       "  </tbody>\n",
       "</table>\n",
       "</div>"
      ],
      "text/plain": [
       "                                                text sentiment\n",
       "0  Last session of the day  http://twitpic.com/67ezh   neutral\n",
       "1   Shanghai is also really exciting (precisely -...  positive\n",
       "2  Recession hit Veronique Branquinho, she has to...  negative\n",
       "3                                        happy bday!  positive\n",
       "4             http://twitpic.com/4w75p - I like it!!  positive"
      ]
     },
     "execution_count": 8,
     "metadata": {},
     "output_type": "execute_result"
    }
   ],
   "source": [
    "test = test[['text','sentiment']]\n",
    "test.head()"
   ]
  },
  {
   "cell_type": "code",
   "execution_count": 9,
   "id": "1c1258a6",
   "metadata": {},
   "outputs": [
    {
     "data": {
      "text/plain": [
       "text         1281\n",
       "sentiment    1281\n",
       "dtype: int64"
      ]
     },
     "execution_count": 9,
     "metadata": {},
     "output_type": "execute_result"
    }
   ],
   "source": [
    "test.isna().sum()"
   ]
  },
  {
   "cell_type": "code",
   "execution_count": 10,
   "id": "011a424f",
   "metadata": {},
   "outputs": [
    {
     "name": "stdout",
     "output_type": "stream",
     "text": [
      "<class 'pandas.core.frame.DataFrame'>\n",
      "Int64Index: 3534 entries, 0 to 3533\n",
      "Data columns (total 2 columns):\n",
      " #   Column     Non-Null Count  Dtype \n",
      "---  ------     --------------  ----- \n",
      " 0   text       3534 non-null   object\n",
      " 1   sentiment  3534 non-null   object\n",
      "dtypes: object(2)\n",
      "memory usage: 82.8+ KB\n"
     ]
    }
   ],
   "source": [
    "test = test.dropna()\n",
    "test.info()"
   ]
  },
  {
   "cell_type": "code",
   "execution_count": 11,
   "id": "39a3e3cb",
   "metadata": {},
   "outputs": [
    {
     "data": {
      "text/plain": [
       "[['I', '`', 'd', 'have', 'responded', ',', 'if', 'I', 'were', 'going'],\n",
       " ['Sooo',\n",
       "  'SAD',\n",
       "  'I',\n",
       "  'will',\n",
       "  'miss',\n",
       "  'you',\n",
       "  'here',\n",
       "  'in',\n",
       "  'San',\n",
       "  'Diego',\n",
       "  '!',\n",
       "  '!',\n",
       "  '!'],\n",
       " ['my', 'boss', 'is', 'bullying', 'me', '...'],\n",
       " ['what', 'interview', '!', 'leave', 'me', 'alone'],\n",
       " ['Sons',\n",
       "  'of',\n",
       "  '*',\n",
       "  '*',\n",
       "  '*',\n",
       "  '*',\n",
       "  ',',\n",
       "  'why',\n",
       "  'couldn',\n",
       "  '`',\n",
       "  't',\n",
       "  'they',\n",
       "  'put',\n",
       "  'them',\n",
       "  'on',\n",
       "  'the',\n",
       "  'releases',\n",
       "  'we',\n",
       "  'already',\n",
       "  'bought']]"
      ]
     },
     "execution_count": 11,
     "metadata": {},
     "output_type": "execute_result"
    }
   ],
   "source": [
    "# word tokenize = seperting each word by \",\"\n",
    "train_tokens = [word_tokenize(i) for i in train['text']]\n",
    "train_tokens[:5]"
   ]
  },
  {
   "cell_type": "code",
   "execution_count": 12,
   "id": "80389d48",
   "metadata": {},
   "outputs": [
    {
     "data": {
      "text/plain": [
       "[['Last', 'session', 'of', 'the', 'day', 'http', ':', '//twitpic.com/67ezh'],\n",
       " ['Shanghai',\n",
       "  'is',\n",
       "  'also',\n",
       "  'really',\n",
       "  'exciting',\n",
       "  '(',\n",
       "  'precisely',\n",
       "  '--',\n",
       "  'skyscrapers',\n",
       "  'galore',\n",
       "  ')',\n",
       "  '.',\n",
       "  'Good',\n",
       "  'tweeps',\n",
       "  'in',\n",
       "  'China',\n",
       "  ':',\n",
       "  '(',\n",
       "  'SH',\n",
       "  ')',\n",
       "  '(',\n",
       "  'BJ',\n",
       "  ')',\n",
       "  '.'],\n",
       " ['Recession',\n",
       "  'hit',\n",
       "  'Veronique',\n",
       "  'Branquinho',\n",
       "  ',',\n",
       "  'she',\n",
       "  'has',\n",
       "  'to',\n",
       "  'quit',\n",
       "  'her',\n",
       "  'company',\n",
       "  ',',\n",
       "  'such',\n",
       "  'a',\n",
       "  'shame',\n",
       "  '!'],\n",
       " ['happy', 'bday', '!'],\n",
       " ['http', ':', '//twitpic.com/4w75p', '-', 'I', 'like', 'it', '!', '!']]"
      ]
     },
     "execution_count": 12,
     "metadata": {},
     "output_type": "execute_result"
    }
   ],
   "source": [
    "test_tokens = [word_tokenize(i) for i in test['text']]\n",
    "test_tokens[:5]"
   ]
  },
  {
   "cell_type": "code",
   "execution_count": 13,
   "id": "772275fd",
   "metadata": {},
   "outputs": [],
   "source": [
    "# revmovel of punchuation\n",
    "removal = RegexpTokenizer(r\"\\w+\")\n"
   ]
  },
  {
   "cell_type": "code",
   "execution_count": 14,
   "id": "e8d997fb",
   "metadata": {},
   "outputs": [],
   "source": [
    "new_train = [removal.tokenize(i) for i in train['text']]\n",
    "new_test = [removal.tokenize(i) for i in test['text']]"
   ]
  },
  {
   "cell_type": "code",
   "execution_count": 15,
   "id": "77297128",
   "metadata": {},
   "outputs": [
    {
     "data": {
      "text/plain": [
       "[['I', 'd', 'have', 'responded', 'if', 'I', 'were', 'going'],\n",
       " ['Sooo', 'SAD', 'I', 'will', 'miss', 'you', 'here', 'in', 'San', 'Diego'],\n",
       " ['my', 'boss', 'is', 'bullying', 'me'],\n",
       " ['what', 'interview', 'leave', 'me', 'alone'],\n",
       " ['Sons',\n",
       "  'of',\n",
       "  'why',\n",
       "  'couldn',\n",
       "  't',\n",
       "  'they',\n",
       "  'put',\n",
       "  'them',\n",
       "  'on',\n",
       "  'the',\n",
       "  'releases',\n",
       "  'we',\n",
       "  'already',\n",
       "  'bought']]"
      ]
     },
     "execution_count": 15,
     "metadata": {},
     "output_type": "execute_result"
    }
   ],
   "source": [
    "new_train[:5]"
   ]
  },
  {
   "cell_type": "code",
   "execution_count": 16,
   "id": "a253e3cb",
   "metadata": {},
   "outputs": [],
   "source": [
    "# removing stopwords\n",
    "sw = set(stopwords.words('english'))"
   ]
  },
  {
   "cell_type": "code",
   "execution_count": 17,
   "id": "d15ad0c0",
   "metadata": {},
   "outputs": [],
   "source": [
    "updated_train = [[word for word in i if not word in sw] for i in new_train]\n",
    "updated_test = [[word for word in i if not word in sw] for i in new_test]"
   ]
  },
  {
   "cell_type": "code",
   "execution_count": 18,
   "id": "c202517c",
   "metadata": {},
   "outputs": [
    {
     "data": {
      "text/plain": [
       "[['I', 'responded', 'I', 'going'],\n",
       " ['Sooo', 'SAD', 'I', 'miss', 'San', 'Diego'],\n",
       " ['boss', 'bullying'],\n",
       " ['interview', 'leave', 'alone']]"
      ]
     },
     "execution_count": 18,
     "metadata": {},
     "output_type": "execute_result"
    }
   ],
   "source": [
    "updated_train[:4]"
   ]
  },
  {
   "cell_type": "code",
   "execution_count": null,
   "id": "a4c3bcc2",
   "metadata": {},
   "outputs": [],
   "source": [
    "# joining the words "
   ]
  },
  {
   "cell_type": "code",
   "execution_count": 19,
   "id": "ee0e6159",
   "metadata": {},
   "outputs": [
    {
     "data": {
      "text/plain": [
       "['I responded I going',\n",
       " 'Sooo SAD I miss San Diego',\n",
       " 'boss bullying',\n",
       " 'interview leave alone',\n",
       " 'Sons put releases already bought']"
      ]
     },
     "execution_count": 19,
     "metadata": {},
     "output_type": "execute_result"
    }
   ],
   "source": [
    "dummy_train = [\" \".join(i) for i in updated_train]\n",
    "dummy_test = [\" \".join(i) for i in updated_test]\n",
    "dummy_train[:5]"
   ]
  },
  {
   "cell_type": "code",
   "execution_count": 20,
   "id": "257a1dd1",
   "metadata": {},
   "outputs": [],
   "source": [
    "train[\"text\"]= dummy_train\n",
    "test[\"text\"]= dummy_test"
   ]
  },
  {
   "cell_type": "code",
   "execution_count": null,
   "id": "9b75d81a",
   "metadata": {},
   "outputs": [],
   "source": [
    "# Checking the Numbers of sentiment"
   ]
  },
  {
   "cell_type": "code",
   "execution_count": 21,
   "id": "420fad3f",
   "metadata": {},
   "outputs": [
    {
     "data": {
      "text/plain": [
       "neutral     11117\n",
       "positive     8582\n",
       "negative     7781\n",
       "Name: sentiment, dtype: int64"
      ]
     },
     "execution_count": 21,
     "metadata": {},
     "output_type": "execute_result"
    }
   ],
   "source": [
    "train['sentiment'].value_counts()"
   ]
  },
  {
   "cell_type": "code",
   "execution_count": 22,
   "id": "66bc5571",
   "metadata": {},
   "outputs": [
    {
     "data": {
      "text/plain": [
       "neutral     1430\n",
       "positive    1103\n",
       "negative    1001\n",
       "Name: sentiment, dtype: int64"
      ]
     },
     "execution_count": 22,
     "metadata": {},
     "output_type": "execute_result"
    }
   ],
   "source": [
    "test['sentiment'].value_counts()"
   ]
  },
  {
   "cell_type": "markdown",
   "id": "38d281e0",
   "metadata": {},
   "source": [
    "### It show that there is Three labels dataset"
   ]
  },
  {
   "cell_type": "code",
   "execution_count": 23,
   "id": "277177c1",
   "metadata": {},
   "outputs": [
    {
     "name": "stdout",
     "output_type": "stream",
     "text": [
      "(27480, 2)\n",
      "(3534, 2)\n"
     ]
    }
   ],
   "source": [
    "print(train.shape)\n",
    "print(test.shape)"
   ]
  },
  {
   "cell_type": "code",
   "execution_count": 24,
   "id": "9fc16b3d",
   "metadata": {},
   "outputs": [],
   "source": [
    "# fit on tokenizer\n",
    "tokenizer = Tokenizer()"
   ]
  },
  {
   "cell_type": "code",
   "execution_count": 25,
   "id": "f96274a9",
   "metadata": {},
   "outputs": [],
   "source": [
    "tokenizer.fit_on_texts(train['text'])\n",
    "tokenizer.fit_on_texts(test['text'])"
   ]
  },
  {
   "cell_type": "markdown",
   "id": "cf8fa17a",
   "metadata": {},
   "source": [
    "### Converting text into a sequence of numbers"
   ]
  },
  {
   "cell_type": "code",
   "execution_count": 26,
   "id": "cc2a5d6d",
   "metadata": {},
   "outputs": [],
   "source": [
    "train_tokens = tokenizer.texts_to_sequences(train['text'])\n",
    "test_tokens = tokenizer.texts_to_sequences(test['text'])"
   ]
  },
  {
   "cell_type": "code",
   "execution_count": 27,
   "id": "fc595055",
   "metadata": {},
   "outputs": [
    {
     "data": {
      "text/plain": [
       "[[1, 7678, 1, 12],\n",
       " [340, 54, 1, 36, 1402, 2200],\n",
       " [1360, 11213],\n",
       " [1141, 271, 415]]"
      ]
     },
     "execution_count": 27,
     "metadata": {},
     "output_type": "execute_result"
    }
   ],
   "source": [
    "train_tokens[:4]"
   ]
  },
  {
   "cell_type": "code",
   "execution_count": 28,
   "id": "fa6634f8",
   "metadata": {},
   "outputs": [
    {
     "data": {
      "text/plain": [
       "[[39, 1129, 2, 7, 80, 19, 26032],\n",
       " [26033, 176, 21, 834, 9299, 26034, 5448, 3, 1463, 2165, 4082, 26035],\n",
       " [4031, 375, 26036, 26037, 1569, 836, 738],\n",
       " [15, 672]]"
      ]
     },
     "execution_count": 28,
     "metadata": {},
     "output_type": "execute_result"
    }
   ],
   "source": [
    "test_tokens[:4]"
   ]
  },
  {
   "cell_type": "code",
   "execution_count": 29,
   "id": "bd25ed75",
   "metadata": {},
   "outputs": [
    {
     "data": {
      "text/plain": [
       "27905"
      ]
     },
     "execution_count": 29,
     "metadata": {},
     "output_type": "execute_result"
    }
   ],
   "source": [
    "# length of total words\n",
    "no_words = len(tokenizer.word_index)+1\n",
    "no_words"
   ]
  },
  {
   "cell_type": "code",
   "execution_count": 30,
   "id": "cc6a9086",
   "metadata": {},
   "outputs": [],
   "source": [
    "X_train = tokenizer.texts_to_sequences(train['text'])\n",
    "X_test = tokenizer.texts_to_sequences(test['text'])"
   ]
  },
  {
   "cell_type": "code",
   "execution_count": 31,
   "id": "d563ff4c",
   "metadata": {},
   "outputs": [
    {
     "data": {
      "text/plain": [
       "41"
      ]
     },
     "execution_count": 31,
     "metadata": {},
     "output_type": "execute_result"
    }
   ],
   "source": [
    "# Total number of words in one sentence\n",
    "max_length = max([len(i) for i in X_train])\n",
    "max_length"
   ]
  },
  {
   "cell_type": "markdown",
   "id": "478d1998",
   "metadata": {},
   "source": [
    "### Padding : adding extra tokens '0' in required input to make all input variables fixed same shape and size"
   ]
  },
  {
   "cell_type": "code",
   "execution_count": 32,
   "id": "a4c8f9cd",
   "metadata": {},
   "outputs": [
    {
     "data": {
      "text/plain": [
       "array([[   1, 7678,    1,   12,    0,    0,    0,    0,    0,    0,    0,\n",
       "           0,    0,    0,    0,    0,    0,    0,    0,    0,    0,    0,\n",
       "           0,    0,    0,    0,    0,    0,    0,    0,    0,    0,    0,\n",
       "           0,    0,    0,    0,    0,    0,    0,    0]])"
      ]
     },
     "execution_count": 32,
     "metadata": {},
     "output_type": "execute_result"
    }
   ],
   "source": [
    "\n",
    "X_train = pad_sequences(X_train, maxlen=max_length, padding=\"post\")\n",
    "X_test = pad_sequences(X_test, maxlen=max_length, padding=\"post\")\n",
    "X_train[:1]"
   ]
  },
  {
   "cell_type": "code",
   "execution_count": 33,
   "id": "dcf9f68c",
   "metadata": {},
   "outputs": [
    {
     "data": {
      "text/plain": [
       "pandas.core.series.Series"
      ]
     },
     "execution_count": 33,
     "metadata": {},
     "output_type": "execute_result"
    }
   ],
   "source": [
    "y_train = train['sentiment']\n",
    "y_test = test['sentiment']\n",
    "type(y_test)"
   ]
  },
  {
   "cell_type": "code",
   "execution_count": 34,
   "id": "b4331910",
   "metadata": {},
   "outputs": [
    {
     "name": "stdout",
     "output_type": "stream",
     "text": [
      "['neutral' 'negative' 'positive']\n",
      "['neutral' 'positive' 'negative']\n"
     ]
    }
   ],
   "source": [
    "# Number of classes\n",
    "print(y_train.unique())\n",
    "print(y_test.unique())"
   ]
  },
  {
   "cell_type": "markdown",
   "id": "549aafcb",
   "metadata": {},
   "source": [
    "### It shows that there is three classes in this Dataset"
   ]
  },
  {
   "cell_type": "markdown",
   "id": "7077a98f",
   "metadata": {},
   "source": [
    "### Converting classes from categorical to numeric by using OneHotEncoder"
   ]
  },
  {
   "cell_type": "code",
   "execution_count": 35,
   "id": "5487d0ca",
   "metadata": {},
   "outputs": [],
   "source": [
    "encoder = OneHotEncoder()\n",
    "\n",
    "# Reshape the target labels \n",
    "y_train_reshaped = y_train.values.reshape(-1, 1)  \n",
    "y_test_reshaped = y_test.values.reshape(-1, 1)\n",
    "\n",
    "# Fit the encoder to the training labels and transform them\n",
    "y_train_encoded = encoder.fit_transform(y_train_reshaped)\n",
    "y_test_encoded = encoder.transform(y_test_reshaped)\n",
    "\n",
    "# Convert the sparse matrix to a dense NumPy array\n",
    "y_train_encoded = y_train_encoded.toarray()\n",
    "y_test_encoded = y_test_encoded.toarray()"
   ]
  },
  {
   "cell_type": "markdown",
   "id": "5e7a624b",
   "metadata": {},
   "source": [
    "### Mapping labels to know which label corresponds to which label"
   ]
  },
  {
   "cell_type": "code",
   "execution_count": 67,
   "id": "0ebc5467",
   "metadata": {},
   "outputs": [
    {
     "name": "stdout",
     "output_type": "stream",
     "text": [
      "Label mapping:\n",
      "Number 0 corresponds to label 'negative'\n",
      "Number 1 corresponds to label 'neutral'\n",
      "Number 2 corresponds to label 'positive'\n"
     ]
    }
   ],
   "source": [
    "categories = encoder.categories_[0]  \n",
    "# Map the categories to their corresponding indices\n",
    "label_mapping = {index: label for index, label in enumerate(categories)}\n",
    "print(\"Label mapping:\")\n",
    "for index, label in label_mapping.items():\n",
    "    print(f\"Number {index} corresponds to label '{label}'\")"
   ]
  },
  {
   "cell_type": "markdown",
   "id": "dec7417c",
   "metadata": {},
   "source": [
    "# Building Model"
   ]
  },
  {
   "cell_type": "code",
   "execution_count": 45,
   "id": "5e5ff27b",
   "metadata": {},
   "outputs": [],
   "source": [
    "# Build the model\n",
    "model = Sequential([\n",
    "    Embedding(input_dim=no_words, output_dim=128, input_length=max_length),\n",
    "    SimpleRNN(64, activation=\"relu\",return_sequences=True),\n",
    "    SimpleRNN(32, activation=\"relu\",return_sequences=True),\n",
    "    SimpleRNN(16, activation=\"sigmoid\"),\n",
    "    Dense(64, activation=\"relu\"),\n",
    "    Dense(3, activation='softmax')  # 3 sentiment categories\n",
    "])"
   ]
  },
  {
   "cell_type": "markdown",
   "id": "aaf249bf",
   "metadata": {},
   "source": [
    "### Compiling a Model "
   ]
  },
  {
   "cell_type": "code",
   "execution_count": 46,
   "id": "9e388514",
   "metadata": {},
   "outputs": [],
   "source": [
    "model.compile(optimizer='adam', loss='CategoricalCrossentropy', metrics=['accuracy'])"
   ]
  },
  {
   "cell_type": "markdown",
   "id": "43a6be93",
   "metadata": {},
   "source": [
    "### Fitting the training data and validation data into the model"
   ]
  },
  {
   "cell_type": "code",
   "execution_count": 47,
   "id": "78e51106",
   "metadata": {
    "scrolled": true
   },
   "outputs": [
    {
     "name": "stdout",
     "output_type": "stream",
     "text": [
      "Epoch 1/10\n",
      "430/430 [==============================] - 25s 47ms/step - loss: 1.0883 - accuracy: 0.4045 - val_loss: 1.0886 - val_accuracy: 0.4046\n",
      "Epoch 2/10\n",
      "430/430 [==============================] - 20s 46ms/step - loss: 1.0881 - accuracy: 0.4045 - val_loss: 1.0855 - val_accuracy: 0.4046\n",
      "Epoch 3/10\n",
      "430/430 [==============================] - 20s 46ms/step - loss: 1.0009 - accuracy: 0.4917 - val_loss: 0.9198 - val_accuracy: 0.5518\n",
      "Epoch 4/10\n",
      "430/430 [==============================] - 20s 46ms/step - loss: 0.8689 - accuracy: 0.5707 - val_loss: 0.8260 - val_accuracy: 0.6423\n",
      "Epoch 5/10\n",
      "430/430 [==============================] - 20s 46ms/step - loss: 0.7832 - accuracy: 0.6237 - val_loss: 0.7688 - val_accuracy: 0.6740\n",
      "Epoch 6/10\n",
      "430/430 [==============================] - 20s 46ms/step - loss: 0.6130 - accuracy: 0.7526 - val_loss: 0.7618 - val_accuracy: 0.6969\n",
      "Epoch 7/10\n",
      "430/430 [==============================] - 20s 46ms/step - loss: 0.5265 - accuracy: 0.7961 - val_loss: 0.7954 - val_accuracy: 0.6879\n",
      "Epoch 8/10\n",
      "430/430 [==============================] - 20s 46ms/step - loss: 0.3818 - accuracy: 0.8744 - val_loss: 0.8586 - val_accuracy: 0.6876\n",
      "Epoch 9/10\n",
      "430/430 [==============================] - 20s 46ms/step - loss: 0.3122 - accuracy: 0.9036 - val_loss: 0.9573 - val_accuracy: 0.6777\n",
      "Epoch 10/10\n",
      "430/430 [==============================] - 20s 47ms/step - loss: 0.2626 - accuracy: 0.9229 - val_loss: 1.0148 - val_accuracy: 0.6757\n"
     ]
    }
   ],
   "source": [
    "history = model.fit(X_train, y_train_encoded, epochs=10, batch_size=64, validation_data=(X_test, y_test_encoded))"
   ]
  },
  {
   "cell_type": "markdown",
   "id": "f6b3f5ae",
   "metadata": {},
   "source": [
    "### Visualization of training accuracy and validation accuracy"
   ]
  },
  {
   "cell_type": "code",
   "execution_count": 48,
   "id": "a0a726e8",
   "metadata": {},
   "outputs": [
    {
     "data": {
      "image/png": "[encoded data removed]",
      "text/plain": [
       "<Figure size 640x480 with 1 Axes>"
      ]
     },
     "metadata": {},
     "output_type": "display_data"
    }
   ],
   "source": [
    "import matplotlib.pyplot as plt\n",
    "plt.plot(history.history['accuracy'])\n",
    "plt.plot(history.history['val_accuracy'])\n",
    "plt.show()"
   ]
  },
  {
   "cell_type": "markdown",
   "id": "a793ffda",
   "metadata": {},
   "source": [
    "### Validation accuracy is not increasing with training accuracy"
   ]
  },
  {
   "cell_type": "code",
   "execution_count": 51,
   "id": "d153ce68",
   "metadata": {},
   "outputs": [
    {
     "data": {
      "image/png": "[encoded data removed]",
      "text/plain": [
       "<Figure size 640x480 with 1 Axes>"
      ]
     },
     "metadata": {},
     "output_type": "display_data"
    }
   ],
   "source": [
    "import matplotlib.pyplot as plt\n",
    "plt.plot(history.history['loss'])\n",
    "plt.plot(history.history['val_loss'])\n",
    "plt.show()"
   ]
  },
  {
   "cell_type": "markdown",
   "id": "dfd8cc74",
   "metadata": {},
   "source": [
    "- The validation loss is not decreasing along with the training loss. \n",
    "- Although the model achieves higher accuracy during training, it does not generalize well to the validation data."
   ]
  },
  {
   "cell_type": "markdown",
   "id": "7e8831c9",
   "metadata": {},
   "source": [
    "### predecting the sentiments of sentence to check model working accuracy"
   ]
  },
  {
   "cell_type": "code",
   "execution_count": 57,
   "id": "79ba115f",
   "metadata": {},
   "outputs": [],
   "source": [
    "predicted_class_index = predictions.argmax(axis=-1)"
   ]
  },
  {
   "cell_type": "code",
   "execution_count": 69,
   "id": "9342b9c0",
   "metadata": {},
   "outputs": [
    {
     "name": "stdout",
     "output_type": "stream",
     "text": [
      "1/1 [==============================] - 0s 37ms/step\n",
      "1/1 [==============================] - 0s 31ms/step\n",
      "1/1 [==============================] - 0s 44ms/step\n",
      "Text 1: The movie was bad bad bad, i will not recommend this movie to anyone - Predicted sentiment: Negative\n",
      "Text 2: I loved the movie, it was fantastic - Predicted sentiment: Positive\n",
      "Text 3: The book was okay, but could have been better - Predicted sentiment: Positive\n"
     ]
    }
   ],
   "source": [
    "# Prediction\n",
    "\n",
    "texts = [\n",
    "    \"The movie was bad bad bad, i will not recommend this movie to anyone\",\n",
    "    \"I loved the movie, it was fantastic\",\n",
    "    \"The book was okay, but could have been better\"\n",
    "]\n",
    "predicted_sentiments = []\n",
    "for text in texts:\n",
    "    new_text_seq = tokenizer.texts_to_sequences([text])\n",
    "    new_text_padded = pad_sequences(new_text_seq, padding='post', maxlen=max_length) \n",
    "    predictions = model.predict(new_text_padded)\n",
    "    predicted_class_index = np.argmax(predictions, axis=-1)[0]\n",
    "    if predicted_class_index == 0:\n",
    "        predicted_sentiment = \"Negative\"\n",
    "    elif predicted_class_index == 1:\n",
    "        predicted_sentiment = \"Neutral\"\n",
    "    else:\n",
    "        predicted_sentiment = \"Positive\"\n",
    "    predicted_sentiments.append(predicted_sentiment)\n",
    "\n",
    "for i, text in enumerate(texts):\n",
    "    print(f\"Text {i + 1}: {text} - Predicted sentiment: {predicted_sentiments[i]}\")"
   ]
  },
  {
   "cell_type": "markdown",
   "id": "9352f417",
   "metadata": {},
   "source": [
    "### The model is providing accurate predictions"
   ]
  },
  {
   "cell_type": "code",
   "execution_count": null,
   "id": "d1daa20b",
   "metadata": {},
   "outputs": [],
   "source": []
  }
 ],
 "metadata": {
  "kernelspec": {
   "display_name": "Python 3 (ipykernel)",
   "language": "python",
   "name": "python3"
  },
  "language_info": {
   "codemirror_mode": {
    "name": "ipython",
    "version": 3
   },
   "file_extension": ".py",
   "mimetype": "text/x-python",
   "name": "python",
   "nbconvert_exporter": "python",
   "pygments_lexer": "ipython3",
   "version": "3.11.3"
  }
 },
 "nbformat": 4,
 "nbformat_minor": 5
}
